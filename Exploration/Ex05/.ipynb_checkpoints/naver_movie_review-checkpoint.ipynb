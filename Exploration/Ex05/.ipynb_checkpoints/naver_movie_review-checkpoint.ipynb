{
 "cells": [
  {
   "cell_type": "code",
   "execution_count": 79,
   "id": "cdb79622",
   "metadata": {},
   "outputs": [
    {
     "name": "stdout",
     "output_type": "stream",
     "text": [
      "1.3.3\n",
      "0.5.2\n",
      "4.1.2\n"
     ]
    }
   ],
   "source": [
    "import pandas\n",
    "import konlpy\n",
    "import gensim\n",
    "\n",
    "print(pandas.__version__)\n",
    "print(konlpy.__version__)\n",
    "print(gensim.__version__)\n"
   ]
  },
  {
   "cell_type": "code",
   "execution_count": 80,
   "id": "59b45509",
   "metadata": {},
   "outputs": [
    {
     "data": {
      "text/html": [
       "<div>\n",
       "<style scoped>\n",
       "    .dataframe tbody tr th:only-of-type {\n",
       "        vertical-align: middle;\n",
       "    }\n",
       "\n",
       "    .dataframe tbody tr th {\n",
       "        vertical-align: top;\n",
       "    }\n",
       "\n",
       "    .dataframe thead th {\n",
       "        text-align: right;\n",
       "    }\n",
       "</style>\n",
       "<table border=\"1\" class=\"dataframe\">\n",
       "  <thead>\n",
       "    <tr style=\"text-align: right;\">\n",
       "      <th></th>\n",
       "      <th>id</th>\n",
       "      <th>document</th>\n",
       "      <th>label</th>\n",
       "    </tr>\n",
       "  </thead>\n",
       "  <tbody>\n",
       "    <tr>\n",
       "      <th>0</th>\n",
       "      <td>9976970</td>\n",
       "      <td>아 더빙.. 진짜 짜증나네요 목소리</td>\n",
       "      <td>0</td>\n",
       "    </tr>\n",
       "    <tr>\n",
       "      <th>1</th>\n",
       "      <td>3819312</td>\n",
       "      <td>흠...포스터보고 초딩영화줄....오버연기조차 가볍지 않구나</td>\n",
       "      <td>1</td>\n",
       "    </tr>\n",
       "    <tr>\n",
       "      <th>2</th>\n",
       "      <td>10265843</td>\n",
       "      <td>너무재밓었다그래서보는것을추천한다</td>\n",
       "      <td>0</td>\n",
       "    </tr>\n",
       "    <tr>\n",
       "      <th>3</th>\n",
       "      <td>9045019</td>\n",
       "      <td>교도소 이야기구먼 ..솔직히 재미는 없다..평점 조정</td>\n",
       "      <td>0</td>\n",
       "    </tr>\n",
       "    <tr>\n",
       "      <th>4</th>\n",
       "      <td>6483659</td>\n",
       "      <td>사이몬페그의 익살스런 연기가 돋보였던 영화!스파이더맨에서 늙어보이기만 했던 커스틴 ...</td>\n",
       "      <td>1</td>\n",
       "    </tr>\n",
       "  </tbody>\n",
       "</table>\n",
       "</div>"
      ],
      "text/plain": [
       "         id                                           document  label\n",
       "0   9976970                                아 더빙.. 진짜 짜증나네요 목소리      0\n",
       "1   3819312                  흠...포스터보고 초딩영화줄....오버연기조차 가볍지 않구나      1\n",
       "2  10265843                                  너무재밓었다그래서보는것을추천한다      0\n",
       "3   9045019                      교도소 이야기구먼 ..솔직히 재미는 없다..평점 조정      0\n",
       "4   6483659  사이몬페그의 익살스런 연기가 돋보였던 영화!스파이더맨에서 늙어보이기만 했던 커스틴 ...      1"
      ]
     },
     "execution_count": 80,
     "metadata": {},
     "output_type": "execute_result"
    }
   ],
   "source": [
    "import pandas as pd\n",
    "import numpy as np\n",
    "# 데이터를 읽어봅시다. \n",
    "train_data = pd.read_table('~/aiffel/sentiment_classification/data/ratings_train.txt')\n",
    "test_data = pd.read_table('~/aiffel/sentiment_classification/data/ratings_test.txt')\n",
    "\n",
    "train_data.head()"
   ]
  },
  {
   "cell_type": "markdown",
   "id": "6ce3dced",
   "metadata": {},
   "source": [
    " **데이터 전처리**"
   ]
  },
  {
   "cell_type": "code",
   "execution_count": 81,
   "id": "4510be4e",
   "metadata": {},
   "outputs": [],
   "source": [
    "def preprocess_text(text):\n",
    "    #중복 제거 및 확인\n",
    "    text.drop_duplicates(subset=['document'], inplace=True)\n",
    "    #document에 한 개 존재하기 때문에, 이 열을 제거\n",
    "    text = text.dropna(how = 'any').reset_index(drop=True)\n",
    "    #한글, 공백을 제외한 다른 문자들을 제거하는 작업\n",
    "    text['document'] = text['document'].str.replace(\"[^ㄱ-ㅎㅏ-ㅣ가-힣\\s]\", \"\", regex=True)\n",
    "    #NaN인 열을 제거\n",
    "    #np.nan 즉, NaN으로 치환하고, dropna를 통해 모든 NaN열을 제거\n",
    "    text['document'] = text['document'].str.replace('^ +', \"\", regex=True)\n",
    "    text['document'].replace('', np.nan, inplace=True)\n",
    "    text = text.dropna(how='any')\n",
    "    return text"
   ]
  },
  {
   "cell_type": "code",
   "execution_count": 82,
   "id": "66a58cc9",
   "metadata": {},
   "outputs": [
    {
     "name": "stdout",
     "output_type": "stream",
     "text": [
      "id          0\n",
      "document    0\n",
      "label       0\n",
      "dtype: int64\n",
      "id          0\n",
      "document    0\n",
      "label       0\n",
      "dtype: int64\n"
     ]
    }
   ],
   "source": [
    "print(preprocess_text(train_data).isnull().sum())\n",
    "print(preprocess_text(test_data).isnull().sum())"
   ]
  },
  {
   "cell_type": "markdown",
   "id": "b880b53b",
   "metadata": {},
   "source": [
    "**토근화**\n",
    "\n",
    "모델에 데이터를 넣기 위해 단어의 요소를 분해한 후, 토큰화하고 임베딩을 해야 비로소 학습시킬 수 있다.\n",
    "따라서 각 문장을 토큰으로 쪼개는 작업을 거쳐야 한다. 영어는 띄어쓰기를 기준으로 해 단어를 분리하는것과 달리, 한국어는 조사와 접속사를 통해 단어를 분리한다.\n",
    "\n",
    "e.g.\n",
    "영어 : \"I am a boy\" -> \"I\", \"am\", \"a\", \"boy\" (o)\n",
    "한국어 : 너와 나는 친구이다 -> \"너와\", \"나는\", \"친구이다\" (x) (띄어쓰기를 기준으로 한 경우)\n",
    "             -> \"너\", \"와\", 나\", \"는\", \"친구\", \"이다\" (o)\n",
    "그래서 여기서는 konlpy라는 한국어 형태소 분석을 진행해주는 라이브러리를 사용했다. 해당 라이브러리를 사용하기 위해서는 JDK가 필요하다.\n",
    "\n",
    "이제 불용어 : stopword를 사용해서 의미가 없는 단어들을 문장에서 삭제시킨다.\n",
    "위 링크의 블로그에서 불용어로 선정한 단어 외에 여기서 단어들을 판단 하에 몇개 더 추가하여 불용어를 다음과 같이 정의했다."
   ]
  },
  {
   "cell_type": "code",
   "execution_count": 83,
   "id": "1b0875e3",
   "metadata": {},
   "outputs": [
    {
     "name": "stderr",
     "output_type": "stream",
     "text": [
      "100%|██████████| 145393/145393 [00:14<00:00, 10262.37it/s]\n"
     ]
    }
   ],
   "source": [
    "from konlpy.tag import Mecab\n",
    "import numpy as np\n",
    "from collections import Counter\n",
    "\n",
    "tokenizer = Mecab()\n",
    "stopwords = ['의','가','이','은','들','는','좀','잘','걍','과','도','를','으로','자','에','와','한','하다']\n",
    "\n",
    "pre_train_data = preprocess_text(train_data)\n",
    "pre_test_data = preprocess_text(test_data)\n",
    "tokenizer.morphs('오 많이 신기한걸 형태소 분석을 자동으로 해주다니')\n",
    "\n",
    "from tqdm import tqdm\n",
    "X_train = []\n",
    "for sentence in tqdm(pre_train_data['document']):\n",
    "    tokenized_sentence = tokenizer.morphs(sentence)\n",
    "    stopwords_removed_sentence = [word for word in tokenized_sentence\n",
    "                                  if not word in stopwords]\n",
    "    X_train.append(stopwords_removed_sentence)"
   ]
  },
  {
   "cell_type": "code",
   "execution_count": 84,
   "id": "80eedf99",
   "metadata": {},
   "outputs": [
    {
     "name": "stdout",
     "output_type": "stream",
     "text": [
      "[['아', '더', '빙', '진짜', '짜증', '나', '네요', '목소리'], ['흠', '포스터', '보고', '초딩', '영화', '줄', '오버', '연기', '조차', '가볍', '지', '않', '구나'], ['너무', '재', '밓었다그래서보는것을추천한다']]\n",
      "145393\n"
     ]
    }
   ],
   "source": [
    "print(X_train[:3])\n",
    "print(len(X_train))"
   ]
  },
  {
   "cell_type": "code",
   "execution_count": 85,
   "id": "738620b6",
   "metadata": {},
   "outputs": [
    {
     "name": "stderr",
     "output_type": "stream",
     "text": [
      "100%|██████████| 48852/48852 [00:04<00:00, 10380.37it/s]\n"
     ]
    }
   ],
   "source": [
    "X_test = []\n",
    "for sentence in tqdm(pre_test_data['document']):\n",
    "    tokenized_sentence = tokenizer.morphs(sentence)\n",
    "    stopwords_removed_sentence = [word for word in tokenized_sentence\n",
    "                                  if not word in stopwords]\n",
    "    X_test.append(stopwords_removed_sentence)"
   ]
  },
  {
   "cell_type": "code",
   "execution_count": 86,
   "id": "78bd93c9",
   "metadata": {},
   "outputs": [
    {
     "name": "stdout",
     "output_type": "stream",
     "text": [
      "48852\n"
     ]
    }
   ],
   "source": [
    "print(len(X_test))"
   ]
  },
  {
   "cell_type": "markdown",
   "id": "81e14372",
   "metadata": {},
   "source": [
    "**keras.preprocessing.sequence.pad_sequences 을 활용한 패딩 추가**"
   ]
  },
  {
   "cell_type": "code",
   "execution_count": 87,
   "id": "a15f652f",
   "metadata": {},
   "outputs": [],
   "source": [
    "from tensorflow.keras.preprocessing.text import Tokenizer\n",
    "from tensorflow.keras.preprocessing.sequence import pad_sequences\n",
    "tokenizer = Tokenizer()\n",
    "tokenizer.fit_on_texts(X_train)"
   ]
  },
  {
   "cell_type": "markdown",
   "id": "1980b8bc",
   "metadata": {},
   "source": [
    "print(tokenizer.word_index)로 결과를 출력"
   ]
  },
  {
   "cell_type": "code",
   "execution_count": 88,
   "id": "34dbb368",
   "metadata": {},
   "outputs": [
    {
     "name": "stdout",
     "output_type": "stream",
     "text": [
      "49946\n"
     ]
    }
   ],
   "source": [
    "#input\n",
    "print(len(tokenizer.word_index))"
   ]
  },
  {
   "cell_type": "markdown",
   "id": "fc0ba71e",
   "metadata": {},
   "source": [
    "3번 미만으로 사용된 단어의 개수와 빈도를 전체 단어의 개수와 빈도수의 비율"
   ]
  },
  {
   "cell_type": "code",
   "execution_count": 89,
   "id": "b657fe64",
   "metadata": {},
   "outputs": [
    {
     "name": "stdout",
     "output_type": "stream",
     "text": [
      "size of vocabulary set:  49946\n",
      "# of voca that appears less than 2: 28320\n",
      "ratio of voca that appears less than 2:  56.70123733632323\n",
      "ratio of voca freq that appears less than 2:  1.7606779759006361\n"
     ]
    }
   ],
   "source": [
    "threshold = 3\n",
    "total_cnt = len(tokenizer.word_index)\n",
    "rare_cnt = 0\n",
    "total_freq = 0\n",
    "rare_freq = 0\n",
    "\n",
    "for key, value in tokenizer.word_counts.items():\n",
    "    total_freq = total_freq + value\n",
    "\n",
    "    if value < threshold:\n",
    "        rare_cnt = rare_cnt + 1\n",
    "        rare_freq = rare_freq + value\n",
    "\n",
    "print('size of vocabulary set: ', total_cnt)\n",
    "print('# of voca that appears less than %s: %s' % (threshold - 1, rare_cnt))\n",
    "print('ratio of voca that appears less than 2: ', (rare_cnt/total_cnt)*100)\n",
    "print('ratio of voca freq that appears less than 2: ', (rare_freq/total_freq)*100)"
   ]
  },
  {
   "cell_type": "markdown",
   "id": "c5f90bc5",
   "metadata": {},
   "source": [
    "3번 미만으로 나타난 단어의 개수는 전체 단어 개수의 약 55%였지만, 빈도 수는 1.8%정도에 불과했다. 해당 값들은 크게 의미가 있지 않은 단어라고 판단했다.\n",
    "앞서 tokenizer의 단어의 순서는 빈도수이기 때문에, 해당하는 24337개의 단어를 전체 단어에서 뺀 값을 단어의 개수로 사용하겠다."
   ]
  },
  {
   "cell_type": "code",
   "execution_count": 90,
   "id": "93ce22a8",
   "metadata": {},
   "outputs": [
    {
     "name": "stdout",
     "output_type": "stream",
     "text": [
      "size of vocavulary : 21627\n"
     ]
    }
   ],
   "source": [
    "#input\n",
    "vocab_size = total_cnt - rare_cnt + 1\n",
    "print('size of vocavulary :', vocab_size)"
   ]
  },
  {
   "cell_type": "code",
   "execution_count": 91,
   "id": "7c1ba2b9",
   "metadata": {},
   "outputs": [
    {
     "name": "stdout",
     "output_type": "stream",
     "text": [
      "# of train data:  146183\n"
     ]
    }
   ],
   "source": [
    "#중복 없는 갯수 확인(146183,)\n",
    "train_data['document'].unique().shape\n",
    "#중복 제거 및 확인\n",
    "train_data.drop_duplicates(subset=['document'], inplace=True)\n",
    "print(\"# of train data: \", len(train_data))"
   ]
  },
  {
   "cell_type": "markdown",
   "id": "55554371",
   "metadata": {},
   "source": [
    "이제 토큰화 한 단어를 사용해서 X_train_seq와 X_test_seq를 만들었다."
   ]
  },
  {
   "cell_type": "code",
   "execution_count": 92,
   "id": "00bb7e4f",
   "metadata": {},
   "outputs": [],
   "source": [
    "tokenizer = Tokenizer(vocab_size)\n",
    "tokenizer.fit_on_texts(X_train)\n",
    "X_train_seq = tokenizer.texts_to_sequences(X_train)\n",
    "X_test_seq = tokenizer.texts_to_sequences(X_test)"
   ]
  },
  {
   "cell_type": "code",
   "execution_count": 93,
   "id": "1ee3673f",
   "metadata": {},
   "outputs": [
    {
     "name": "stdout",
     "output_type": "stream",
     "text": [
      "145393\n",
      "48852\n"
     ]
    }
   ],
   "source": [
    "print(len(X_train_seq))\n",
    "print(len(X_test_seq))"
   ]
  },
  {
   "cell_type": "markdown",
   "id": "e9a02bb9",
   "metadata": {},
   "source": [
    "리뷰의 타겟 값도 train_df['label']에서 분리하여 만든다."
   ]
  },
  {
   "cell_type": "code",
   "execution_count": 94,
   "id": "f719af96",
   "metadata": {},
   "outputs": [
    {
     "name": "stdout",
     "output_type": "stream",
     "text": [
      "145393\n",
      "48852\n"
     ]
    }
   ],
   "source": [
    "y_train = np.array(pre_train_data['label'])\n",
    "y_test = np.array(pre_test_data['label'])\n",
    "print(len(y_train))\n",
    "print(len(y_test))"
   ]
  },
  {
   "cell_type": "markdown",
   "id": "a4f03425",
   "metadata": {},
   "source": [
    "**데이터셋 내 문장 길이 분포**"
   ]
  },
  {
   "cell_type": "code",
   "execution_count": 95,
   "id": "2b760dad",
   "metadata": {},
   "outputs": [
    {
     "data": {
      "text/plain": [
       "Text(0, 0.5, 'number of samples')"
      ]
     },
     "execution_count": 95,
     "metadata": {},
     "output_type": "execute_result"
    },
    {
     "data": {
      "image/png": "[encoded data removed]",
      "text/plain": [
       "<Figure size 432x288 with 1 Axes>"
      ]
     },
     "metadata": {
      "needs_background": "light"
     },
     "output_type": "display_data"
    }
   ],
   "source": [
    "import matplotlib.pyplot as plt\n",
    "plt.hist([len(review) for review in X_train], bins=50)\n",
    "plt.xlabel('length of samples')\n",
    "plt.ylabel('number of samples')"
   ]
  },
  {
   "cell_type": "markdown",
   "id": "c7f339eb",
   "metadata": {},
   "source": [
    "히스토그램으로 봤을때 30~40 보다 길이가 긴 경우는 많이 없다고 간주할 수 있다.\n",
    "이를 수치화하여 확인해보자."
   ]
  },
  {
   "cell_type": "code",
   "execution_count": 96,
   "id": "e74523c5",
   "metadata": {},
   "outputs": [],
   "source": [
    "def below_threshold_len(max_len, nested_list):\n",
    "    cnt = 0\n",
    "    for sentence in nested_list:\n",
    "        if(len(sentence) <= max_len):\n",
    "            cnt = cnt + 1\n",
    "    ratio = (cnt/len(nested_list))*100\n",
    "    return ratio"
   ]
  },
  {
   "cell_type": "markdown",
   "id": "643e9599",
   "metadata": {},
   "source": [
    "**적절한 최대 문장 길이 지정**"
   ]
  },
  {
   "cell_type": "code",
   "execution_count": 97,
   "id": "f02f81c8",
   "metadata": {
    "scrolled": false
   },
   "outputs": [
    {
     "name": "stdout",
     "output_type": "stream",
     "text": [
      "range(10, 110, 10)\n"
     ]
    },
    {
     "data": {
      "text/plain": [
       "Text(0, 0.5, 'ratio of samples')"
      ]
     },
     "execution_count": 97,
     "metadata": {},
     "output_type": "execute_result"
    },
    {
     "data": {
      "image/png": "[encoded data removed]",
      "text/plain": [
       "<Figure size 432x288 with 1 Axes>"
      ]
     },
     "metadata": {
      "needs_background": "light"
     },
     "output_type": "display_data"
    }
   ],
   "source": [
    "arr = range(10, 110, 10)\n",
    "print(arr)\n",
    "ratios = []\n",
    "\n",
    "for max_len in arr:\n",
    "    ratios.append(below_threshold_len(max_len, X_train_seq))\n",
    "\n",
    "plt.plot(arr, ratios)\n",
    "plt.xlabel('max length')\n",
    "plt.ylabel('ratio of samples')"
   ]
  },
  {
   "cell_type": "markdown",
   "id": "1a4a9c4c",
   "metadata": {},
   "source": [
    "영어의 기준에서는 동사가 주로 앞에 나오는 경우가 많다. 간단하게 말하면 결론이 앞에 온다는 것이다.(반대로 한국어는 끝까지 들어야 한다는 말처럼, 끝부분에 관형사가 오기에 끝부분이 전체 내용을 좌우할 수 있다) 간단한 영작으로 \"나는 이 영화가 좋다\"라는 문장을 보면\n",
    "\"I like this movie.\"라고 적을 수 있다. 그렇다면, 다음과 같이 문장에 조금 더 살을 붙여 보자.\n",
    "\"저는 이 영화가 공포스러운 장면이 너무 많고 잔인한 장면이 많긴 하지만 흥미로워서 좋아요!\"라는 문장을 생각해보면,\n",
    "\"I like this movie 'cause It's very interesting, Although has some scary and gross scenes\"라고 영작할 수 있다(제 처참한 영작 실력은 무시해주세요!)\n",
    "이 경우 만일 padding='pre'로 문장을 자른다고 하면\n",
    "한글 문장은 : \"저는 이 영화가 공포스러운 장면이 너무 많고 잔인한\"\n",
    "영어 문장은 : \"I like this movie cause It's very interesting, \"\n",
    "정도로 잘라 질 수 있다. 한글 문장의 경우 영화가 공포스러운 장면이 많고 너무 잔인하다 라는 내용으로 동사나 형용사를 어림잡아야 하는 반면, 영어 문장은 결론(like)이 앞에 나와있기 때문에 긍정적인 문장으로 판단할 수 있다.\n",
    "따라서 이 예제와 같은 한국어 문장을 판단하는 경우에는 padding='post'로 설정하는게 낫겠다는 결론을 내렸다."
   ]
  },
  {
   "cell_type": "code",
   "execution_count": 98,
   "id": "7588f063",
   "metadata": {
    "scrolled": true
   },
   "outputs": [
    {
     "name": "stdout",
     "output_type": "stream",
     "text": [
      "145393\n",
      "48852\n"
     ]
    }
   ],
   "source": [
    "X_train_40 = pad_sequences(X_train_seq, maxlen=40, padding='post')\n",
    "X_test_40 = pad_sequences(X_test_seq, maxlen=40, padding='post')\n",
    "print(len(X_train_40))\n",
    "print(len(X_test_40))"
   ]
  },
  {
   "cell_type": "markdown",
   "id": "e2a713e2",
   "metadata": {},
   "source": [
    "**모델 훈련 개시**"
   ]
  },
  {
   "cell_type": "code",
   "execution_count": 99,
   "id": "0bc63fbe",
   "metadata": {},
   "outputs": [
    {
     "name": "stdout",
     "output_type": "stream",
     "text": [
      "Epoch 1/30\n",
      "1818/1818 [==============================] - 13s 6ms/step - loss: 0.4186 - accuracy: 0.8002 - val_loss: 0.3450 - val_accuracy: 0.8486\n",
      "Epoch 2/30\n",
      "1818/1818 [==============================] - 11s 6ms/step - loss: 0.3083 - accuracy: 0.8703 - val_loss: 0.3386 - val_accuracy: 0.8556\n",
      "Epoch 3/30\n",
      "1818/1818 [==============================] - 10s 6ms/step - loss: 0.2625 - accuracy: 0.8911 - val_loss: 0.3538 - val_accuracy: 0.8569\n",
      "Epoch 4/30\n",
      "1818/1818 [==============================] - 10s 6ms/step - loss: 0.2309 - accuracy: 0.9055 - val_loss: 0.3553 - val_accuracy: 0.8494\n",
      "Epoch 5/30\n",
      "1818/1818 [==============================] - 10s 6ms/step - loss: 0.2039 - accuracy: 0.9176 - val_loss: 0.3868 - val_accuracy: 0.8515\n"
     ]
    }
   ],
   "source": [
    "import keras\n",
    "model5 = keras.Sequential()\n",
    "model5.add(keras.layers.Embedding(vocab_size, 100))\n",
    "model5.add(keras.layers.LSTM(128, dropout=0.3))\n",
    "model5.add(keras.layers.Dense(1, activation='sigmoid'))\n",
    "\n",
    "checkpoint_cb = keras.callbacks.ModelCheckpoint('best-sentiment-model.h5')\n",
    "early_stopping_cb = keras.callbacks.EarlyStopping(patience=3, restore_best_weights=True)\n",
    "\n",
    "model5.compile(optimizer='adam', loss='binary_crossentropy', metrics=['accuracy'])\n",
    "history = model5.fit(X_train_40, y_train, epochs=30, callbacks=[checkpoint_cb, early_stopping_cb],\n",
    "                    validation_split=0.2, batch_size=64)"
   ]
  },
  {
   "cell_type": "markdown",
   "id": "4a2ba4b1",
   "metadata": {},
   "source": [
    "**Loss, Accuracy 그래프 시각화**"
   ]
  },
  {
   "cell_type": "code",
   "execution_count": 100,
   "id": "18610ec2",
   "metadata": {},
   "outputs": [
    {
     "data": {
      "image/png": "[encoded data removed]",
      "text/plain": [
       "<Figure size 864x360 with 2 Axes>"
      ]
     },
     "metadata": {
      "needs_background": "light"
     },
     "output_type": "display_data"
    }
   ],
   "source": [
    "# 훈련 결과 시각화\n",
    "plt.figure(figsize=(12, 5))\n",
    "\n",
    "# Loss 그래프\n",
    "plt.subplot(1, 2, 1)\n",
    "plt.plot(history.history['loss'], label='Training Loss')\n",
    "plt.plot(history.history['val_loss'], label='Validation Loss')\n",
    "plt.title('Model Loss')\n",
    "plt.xlabel('Epochs')\n",
    "plt.ylabel('Loss')\n",
    "plt.legend()\n",
    "\n",
    "# Accuracy 그래프\n",
    "plt.subplot(1, 2, 2)\n",
    "plt.plot(history.history['accuracy'], label='Training Accuracy')\n",
    "plt.plot(history.history['val_accuracy'], label='Validation Accuracy')\n",
    "plt.title('Model Accuracy')\n",
    "plt.xlabel('Epochs')\n",
    "plt.ylabel('Accuracy')\n",
    "plt.legend()\n",
    "\n",
    "plt.tight_layout()\n",
    "plt.show()"
   ]
  },
  {
   "cell_type": "markdown",
   "id": "9f173741",
   "metadata": {},
   "source": [
    "best_model을 불러와서 test set으로 가져온 모델을 최종적으로 평가해보면"
   ]
  },
  {
   "cell_type": "code",
   "execution_count": 101,
   "id": "f86fe036",
   "metadata": {},
   "outputs": [
    {
     "name": "stdout",
     "output_type": "stream",
     "text": [
      "1527/1527 [==============================] - 4s 3ms/step - loss: 0.3908 - accuracy: 0.8482\n"
     ]
    },
    {
     "data": {
      "text/plain": [
       "[0.39076629281044006, 0.8481535911560059]"
      ]
     },
     "execution_count": 101,
     "metadata": {},
     "output_type": "execute_result"
    }
   ],
   "source": [
    "best_model = keras.models.load_model('best-sentiment-model.h5')\n",
    "best_model.evaluate(X_test_40, y_test)"
   ]
  },
  {
   "cell_type": "markdown",
   "id": "7a1e3603",
   "metadata": {},
   "source": [
    "**결론**\n",
    "\n",
    "적절한 전처리와 딕서너리를 잘 생성하고, 한국어를 감안하여 post 방식으로 패딩 한 것이 나름의 성능에 기여 한 것 같습니다."
   ]
  },
  {
   "cell_type": "markdown",
   "id": "9890c714",
   "metadata": {},
   "source": [
    "**회고**\n",
    "\n",
    "데이터 분석하고, 전처리 부분에 시간 할당이 많아 뒤 부분 나머지 평가 지표를 진행 하지 못했지만, 프로젝트를 통해 좀 더 이해의 폭을 넓혀 만족 합니다."
   ]
  },
  {
   "cell_type": "markdown",
   "id": "845aa02c",
   "metadata": {},
   "source": [
    "**아쉬운 점 & 보완책**\n",
    "\n",
    "한국어 Word2Vec 임베딩 활용하여 성능 개선 하는 부분/ 다른 모델 2개에 대한 비교를 진행 하지 못하여 아쉬었습니다.\n",
    "제출 이후에도 이 부분에 대해 좀 더 진행 할 생각 입니다."
   ]
  }
 ],
 "metadata": {
  "kernelspec": {
   "display_name": "Python 3 (ipykernel)",
   "language": "python",
   "name": "python3"
  },
  "language_info": {
   "codemirror_mode": {
    "name": "ipython",
    "version": 3
   },
   "file_extension": ".py",
   "mimetype": "text/x-python",
   "name": "python",
   "nbconvert_exporter": "python",
   "pygments_lexer": "ipython3",
   "version": "3.9.7"
  }
 },
 "nbformat": 4,
 "nbformat_minor": 5
}
