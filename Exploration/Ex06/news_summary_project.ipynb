{
 "cells": [
  {
   "cell_type": "markdown",
   "id": "be622566-d9e8-4ac8-86d9-82181ab8041c",
   "metadata": {},
   "source": [
    "### 8-1. 프로젝트: 뉴스기사 요약해보기 ###\n",
    "\n",
    "새로운 데이터셋에 대해서 추상적 요약과 추출적 요약을 모두 해보는 시간을 가져봐요.\n",
    "\n",
    "먼저 주요 라이브러리 버전을 확인해 보죠.\n",
    "\n",
    "\n",
    "\n",
    "\n"
   ]
  },
  {
   "cell_type": "code",
   "execution_count": 1,
   "id": "5b8b7c1c-f3d8-4bac-92a7-74baa6fed73b",
   "metadata": {},
   "outputs": [
    {
     "name": "stderr",
     "output_type": "stream",
     "text": [
      "2025-02-07 21:26:33.659602: I tensorflow/core/platform/cpu_feature_guard.cc:193] This TensorFlow binary is optimized with oneAPI Deep Neural Network Library (oneDNN) to use the following CPU instructions in performance-critical operations:  AVX2 FMA\n",
      "To enable them in other operations, rebuild TensorFlow with the appropriate compiler flags.\n"
     ]
    },
    {
     "name": "stdout",
     "output_type": "stream",
     "text": [
      "3.9.1\n",
      "2.10.0\n",
      "2.2.3\n",
      "1.2.0\n"
     ]
    }
   ],
   "source": [
    "from importlib.metadata import version\n",
    "import nltk\n",
    "import tensorflow\n",
    "import summa\n",
    "import pandas as pd\n",
    "\n",
    "print(nltk.__version__)\n",
    "print(tensorflow.__version__)\n",
    "print(pd.__version__)\n",
    "print(version('summa'))"
   ]
  },
  {
   "cell_type": "markdown",
   "id": "2666689d-7702-48e8-9d9c-6f61e88eb6c7",
   "metadata": {},
   "source": [
    "**Step 1. 데이터 수집하기**\n",
    "\n",
    "데이터는 아래 링크에 있는 뉴스 기사 데이터(news_summary_more.csv)를 사용하세요.\n",
    "\n",
    "[sunnysai12345/News_Summary](https://github.com/sunnysai12345/News_Summary)\n",
    "아래의 코드로 데이터를 다운로드할 수 있어요."
   ]
  },
  {
   "cell_type": "code",
   "execution_count": 2,
   "id": "3a243806-5e24-4186-b30f-773f43a50b35",
   "metadata": {},
   "outputs": [],
   "source": [
    "import urllib.request\n",
    "urllib.request.urlretrieve(\"https://raw.githubusercontent.com/sunnysai12345/News_Summary/master/news_summary_more.csv\", filename=\"news_summary_more.csv\")\n",
    "data = pd.read_csv('news_summary_more.csv', encoding='iso-8859-1')"
   ]
  },
  {
   "cell_type": "code",
   "execution_count": 3,
   "id": "641007b4-0773-4ce7-80f6-aa5894b255eb",
   "metadata": {},
   "outputs": [
    {
     "data": {
      "text/html": [
       "<div>\n",
       "<style scoped>\n",
       "    .dataframe tbody tr th:only-of-type {\n",
       "        vertical-align: middle;\n",
       "    }\n",
       "\n",
       "    .dataframe tbody tr th {\n",
       "        vertical-align: top;\n",
       "    }\n",
       "\n",
       "    .dataframe thead th {\n",
       "        text-align: right;\n",
       "    }\n",
       "</style>\n",
       "<table border=\"1\" class=\"dataframe\">\n",
       "  <thead>\n",
       "    <tr style=\"text-align: right;\">\n",
       "      <th></th>\n",
       "      <th>headlines</th>\n",
       "      <th>text</th>\n",
       "    </tr>\n",
       "  </thead>\n",
       "  <tbody>\n",
       "    <tr>\n",
       "      <th>31279</th>\n",
       "      <td>It took 3,000 hours to make dress Aishwarya wo...</td>\n",
       "      <td>The dress that actress Aishwarya Rai Bachchan ...</td>\n",
       "    </tr>\n",
       "    <tr>\n",
       "      <th>60394</th>\n",
       "      <td>Smriti Irani slams Shashi Tharoor for 'Maharaj...</td>\n",
       "      <td>After Congress MP Shashi Tharoor said some \"so...</td>\n",
       "    </tr>\n",
       "    <tr>\n",
       "      <th>318</th>\n",
       "      <td>NRC an electoral gimmick, wonÃ¢ÂÂt allow it ...</td>\n",
       "      <td>West Bengal CM Mamata Banerjee on Monday calle...</td>\n",
       "    </tr>\n",
       "    <tr>\n",
       "      <th>20180</th>\n",
       "      <td>Sunny Leone's photo used for 51-yr-old woman i...</td>\n",
       "      <td>Sunny Leone's photograph has appeared against ...</td>\n",
       "    </tr>\n",
       "    <tr>\n",
       "      <th>26587</th>\n",
       "      <td>He called me fat: Gangster who killed Munna Ba...</td>\n",
       "      <td>Convicted UP gangster Sunil Rathi has claimed ...</td>\n",
       "    </tr>\n",
       "    <tr>\n",
       "      <th>8687</th>\n",
       "      <td>Kohli sets record for most T20I runs against a...</td>\n",
       "      <td>Indian captain Virat Kohli scored an unbeaten ...</td>\n",
       "    </tr>\n",
       "    <tr>\n",
       "      <th>80673</th>\n",
       "      <td>I'm blessed that you even know I exist: Ranvee...</td>\n",
       "      <td>In a Twitter conversation with actor Amitabh B...</td>\n",
       "    </tr>\n",
       "    <tr>\n",
       "      <th>17415</th>\n",
       "      <td>102-year-old Indian athlete wins gold in 200m ...</td>\n",
       "      <td>Man Kaur, a 102-year-old Chandigarh-based athl...</td>\n",
       "    </tr>\n",
       "    <tr>\n",
       "      <th>24094</th>\n",
       "      <td>US reunites 1,820 children separated at Mexico...</td>\n",
       "      <td>The US government has said that 1,820 children...</td>\n",
       "    </tr>\n",
       "    <tr>\n",
       "      <th>12381</th>\n",
       "      <td>Trump said 'it's okay': Man held for groping w...</td>\n",
       "      <td>A man arrested in the US for allegedly groping...</td>\n",
       "    </tr>\n",
       "  </tbody>\n",
       "</table>\n",
       "</div>"
      ],
      "text/plain": [
       "                                               headlines  \\\n",
       "31279  It took 3,000 hours to make dress Aishwarya wo...   \n",
       "60394  Smriti Irani slams Shashi Tharoor for 'Maharaj...   \n",
       "318    NRC an electoral gimmick, wonÃ¢ÂÂt allow it ...   \n",
       "20180  Sunny Leone's photo used for 51-yr-old woman i...   \n",
       "26587  He called me fat: Gangster who killed Munna Ba...   \n",
       "8687   Kohli sets record for most T20I runs against a...   \n",
       "80673  I'm blessed that you even know I exist: Ranvee...   \n",
       "17415  102-year-old Indian athlete wins gold in 200m ...   \n",
       "24094  US reunites 1,820 children separated at Mexico...   \n",
       "12381  Trump said 'it's okay': Man held for groping w...   \n",
       "\n",
       "                                                    text  \n",
       "31279  The dress that actress Aishwarya Rai Bachchan ...  \n",
       "60394  After Congress MP Shashi Tharoor said some \"so...  \n",
       "318    West Bengal CM Mamata Banerjee on Monday calle...  \n",
       "20180  Sunny Leone's photograph has appeared against ...  \n",
       "26587  Convicted UP gangster Sunil Rathi has claimed ...  \n",
       "8687   Indian captain Virat Kohli scored an unbeaten ...  \n",
       "80673  In a Twitter conversation with actor Amitabh B...  \n",
       "17415  Man Kaur, a 102-year-old Chandigarh-based athl...  \n",
       "24094  The US government has said that 1,820 children...  \n",
       "12381  A man arrested in the US for allegedly groping...  "
      ]
     },
     "execution_count": 3,
     "metadata": {},
     "output_type": "execute_result"
    }
   ],
   "source": [
    "data.sample(10)"
   ]
  },
  {
   "cell_type": "markdown",
   "id": "ba140b1c-5f30-44c5-a987-b5a9909b0495",
   "metadata": {},
   "source": [
    "이 데이터는 기사의 본문에 해당되는 text와 headlines 두 가지 열로 구성되어져 있습니다.\n",
    "\n",
    "추상적 요약을 하는 경우에는 text를 본문, headlines를 이미 요약된 데이터로 삼아서 모델을 학습할 수 있어요. 추출적 요약을 하는 경우에는 오직 text열만을 사용하세요.\n",
    "\n",
    "**Step 2. 데이터 전처리하기 (추상적 요약)**\n",
    "\n",
    "실습에서 사용된 전처리를 참고하여 각자 필요하다고 생각하는 전처리를 추가 사용하여 텍스트를 정규화 또는 정제해 보세요. 만약, 불용어 제거를 선택한다면 상대적으로 길이가 짧은 요약 데이터에 대해서도 불용어를 제거하는 것이 좋을지 고민해 보세요.\n",
    "\n",
    "**Step 3. 어텐션 메커니즘 사용하기 (추상적 요약)**\n",
    "\n",
    "일반적인 seq2seq보다는 어텐션 메커니즘을 사용한 seq2seq를 사용하는 것이 더 나은 성능을 얻을 수 있어요. 실습 내용을 참고하여 어텐션 메커니즘을 사용한 seq2seq를 설계해 보세요.\n",
    "\n",
    "**Step 4. 실제 결과와 요약문 비교하기 (추상적 요약)**\n",
    "\n",
    "원래의 요약문(headlines 열)과 학습을 통해 얻은 추상적 요약의 결과를 비교해 보세요.\n",
    "\n",
    "**Step 5. Summa을 이용해서 추출적 요약해보기**\n",
    "\n",
    "추상적 요약은 추출적 요약과는 달리 문장의 표현력을 다양하게 가져갈 수 있지만, 추출적 요약에 비해서 난이도가 높아요. 반대로 말하면 추출적 요약은 추상적 요약에 비해 난이도가 낮고 기존 문장에서 문장을 꺼내오는 것이므로 잘못된 요약이 나올 가능성이 낮아요.\n",
    "\n",
    "Summa의 summarize를 사용하여 추출적 요약을 해보세요."
   ]
  },
  {
   "cell_type": "markdown",
   "id": "4fb4e3ea-068a-4941-8ce9-b55d9ff483c4",
   "metadata": {},
   "source": [
    "**루브릭**\n",
    "\n",
    "아래의 기준을 바탕으로 프로젝트를 평가합니다.\n",
    "\n",
    "평가문항\t상세기준\n",
    "\n",
    "1. Abstractive 모델 구성을 위한 텍스트 전처리 단계가 체계적으로 진행되었다.\t분석단계, 정제단계, 정규화와 불용어 제거, 데이터셋 분리, 인코딩 과정이 빠짐없이 체계적으로 진행되었다.\n",
    "\n",
    "2. 텍스트 요약모델이 성공적으로 학습되었음을 확인하였다.\t모델 학습이 진행되면서 train loss와 validation loss가 감소하는 경향을 그래프를 통해 확인했으며, 실제 요약문에 있는 핵심 단어들이 요약 문장 안에 포함되었다.\n",
    "\n",
    "3. Extractive 요약을 시도해 보고 Abstractive 요약 결과과 함께 비교해 보았다.\t두 요약 결과를 문법완성도 측면과 핵심단어 포함 측면으로 나누어 비교하고 분석 결과를 표로 정리하여 제시하였다."
   ]
  },
  {
   "cell_type": "code",
   "execution_count": null,
   "id": "2a1a2c2f-e123-467a-af74-a3f904484b18",
   "metadata": {},
   "outputs": [],
   "source": []
  }
 ],
 "metadata": {
  "kernelspec": {
   "display_name": "Python 3 (ipykernel)",
   "language": "python",
   "name": "python3"
  },
  "language_info": {
   "codemirror_mode": {
    "name": "ipython",
    "version": 3
   },
   "file_extension": ".py",
   "mimetype": "text/x-python",
   "name": "python",
   "nbconvert_exporter": "python",
   "pygments_lexer": "ipython3",
   "version": "3.9.7"
  }
 },
 "nbformat": 4,
 "nbformat_minor": 5
}
